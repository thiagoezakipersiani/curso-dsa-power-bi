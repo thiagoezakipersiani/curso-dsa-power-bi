{
 "cells": [
  {
   "cell_type": "code",
   "execution_count": 1,
   "id": "c2198f08",
   "metadata": {},
   "outputs": [
    {
     "name": "stderr",
     "output_type": "stream",
     "text": [
      "WARNING: You are using pip version 21.2.4; however, version 22.1.2 is available.\n",
      "You should consider upgrading via the 'C:\\Users\\thiago.persiani\\AppData\\Local\\Programs\\Python\\Python310\\python.exe -m pip install --upgrade pip' command.\n"
     ]
    }
   ],
   "source": [
    "#Biblioteca usada para gravar as versões de outros pacotes\n",
    "!pip install -q -U watermark"
   ]
  },
  {
   "cell_type": "code",
   "execution_count": 2,
   "id": "5603b09f",
   "metadata": {},
   "outputs": [
    {
     "name": "stdout",
     "output_type": "stream",
     "text": [
      "Requirement already satisfied: numpy in c:\\users\\thiago.persiani\\appdata\\local\\programs\\python\\python310\\lib\\site-packages (1.21.5)\n"
     ]
    },
    {
     "name": "stderr",
     "output_type": "stream",
     "text": [
      "WARNING: You are using pip version 21.2.4; however, version 22.1.2 is available.\n",
      "You should consider upgrading via the 'C:\\Users\\thiago.persiani\\AppData\\Local\\Programs\\Python\\Python310\\python.exe -m pip install --upgrade pip' command.\n"
     ]
    }
   ],
   "source": [
    "!pip install numpy"
   ]
  },
  {
   "cell_type": "code",
   "execution_count": 4,
   "id": "8f2382b8",
   "metadata": {},
   "outputs": [],
   "source": [
    "import numpy as np\n",
    "import pandas as pd\n",
    "import matplotlib as mat\n",
    "import matplotlib.pyplot as plot\n",
    "import seaborn as sea\n"
   ]
  },
  {
   "cell_type": "code",
   "execution_count": 5,
   "id": "620317a9",
   "metadata": {},
   "outputs": [
    {
     "name": "stdout",
     "output_type": "stream",
     "text": [
      "Author: Data science Academy\n",
      "\n",
      "numpy     : 1.21.5\n",
      "pandas    : 1.3.5\n",
      "matplotlib: 3.5.2\n",
      "seaborn   : 0.11.2\n",
      "\n"
     ]
    }
   ],
   "source": [
    "#Versões usadas neste bloco do jupyter\n",
    "%reload_ext watermark\n",
    "%watermark -a \"Data science Academy\" --iversions"
   ]
  },
  {
   "cell_type": "code",
   "execution_count": 5,
   "id": "083c5b69",
   "metadata": {},
   "outputs": [],
   "source": [
    "dadosRh= pd.read_csv('dadosRH.csv')"
   ]
  },
  {
   "cell_type": "code",
   "execution_count": 7,
   "id": "cbcb84e4",
   "metadata": {},
   "outputs": [
    {
     "data": {
      "text/html": [
       "<div>\n",
       "<style scoped>\n",
       "    .dataframe tbody tr th:only-of-type {\n",
       "        vertical-align: middle;\n",
       "    }\n",
       "\n",
       "    .dataframe tbody tr th {\n",
       "        vertical-align: top;\n",
       "    }\n",
       "\n",
       "    .dataframe thead th {\n",
       "        text-align: right;\n",
       "    }\n",
       "</style>\n",
       "<table border=\"1\" class=\"dataframe\">\n",
       "  <thead>\n",
       "    <tr style=\"text-align: right;\">\n",
       "      <th></th>\n",
       "      <th>id_funcionario</th>\n",
       "      <th>departmento</th>\n",
       "      <th>regiao</th>\n",
       "      <th>educacao</th>\n",
       "      <th>genero</th>\n",
       "      <th>canal_recrutamento</th>\n",
       "      <th>numero_treinamentos</th>\n",
       "      <th>idade</th>\n",
       "      <th>aval_ano_anterior</th>\n",
       "      <th>tempo_servico</th>\n",
       "      <th>promovido</th>\n",
       "    </tr>\n",
       "  </thead>\n",
       "  <tbody>\n",
       "    <tr>\n",
       "      <th>0</th>\n",
       "      <td>65438</td>\n",
       "      <td>Marketing</td>\n",
       "      <td>Sudeste</td>\n",
       "      <td>Mestrado ou Doutorado</td>\n",
       "      <td>F</td>\n",
       "      <td>Outsourcing</td>\n",
       "      <td>1</td>\n",
       "      <td>35</td>\n",
       "      <td>5.0</td>\n",
       "      <td>8</td>\n",
       "      <td>0</td>\n",
       "    </tr>\n",
       "    <tr>\n",
       "      <th>1</th>\n",
       "      <td>65141</td>\n",
       "      <td>Logistica</td>\n",
       "      <td>Nordeste</td>\n",
       "      <td>Superior</td>\n",
       "      <td>M</td>\n",
       "      <td>Outro</td>\n",
       "      <td>1</td>\n",
       "      <td>30</td>\n",
       "      <td>5.0</td>\n",
       "      <td>4</td>\n",
       "      <td>0</td>\n",
       "    </tr>\n",
       "    <tr>\n",
       "      <th>2</th>\n",
       "      <td>7513</td>\n",
       "      <td>Marketing</td>\n",
       "      <td>Sudeste</td>\n",
       "      <td>Superior</td>\n",
       "      <td>M</td>\n",
       "      <td>Outsourcing</td>\n",
       "      <td>1</td>\n",
       "      <td>34</td>\n",
       "      <td>3.0</td>\n",
       "      <td>7</td>\n",
       "      <td>0</td>\n",
       "    </tr>\n",
       "    <tr>\n",
       "      <th>3</th>\n",
       "      <td>2542</td>\n",
       "      <td>Marketing</td>\n",
       "      <td>Norte</td>\n",
       "      <td>Superior</td>\n",
       "      <td>M</td>\n",
       "      <td>Outro</td>\n",
       "      <td>2</td>\n",
       "      <td>39</td>\n",
       "      <td>1.0</td>\n",
       "      <td>10</td>\n",
       "      <td>0</td>\n",
       "    </tr>\n",
       "    <tr>\n",
       "      <th>4</th>\n",
       "      <td>48945</td>\n",
       "      <td>Tecnologia</td>\n",
       "      <td>Nordeste</td>\n",
       "      <td>Superior</td>\n",
       "      <td>M</td>\n",
       "      <td>Outro</td>\n",
       "      <td>1</td>\n",
       "      <td>45</td>\n",
       "      <td>3.0</td>\n",
       "      <td>2</td>\n",
       "      <td>0</td>\n",
       "    </tr>\n",
       "  </tbody>\n",
       "</table>\n",
       "</div>"
      ],
      "text/plain": [
       "   id_funcionario departmento    regiao               educacao genero  \\\n",
       "0           65438   Marketing   Sudeste  Mestrado ou Doutorado      F   \n",
       "1           65141   Logistica  Nordeste               Superior      M   \n",
       "2            7513   Marketing   Sudeste               Superior      M   \n",
       "3            2542   Marketing     Norte               Superior      M   \n",
       "4           48945  Tecnologia  Nordeste               Superior      M   \n",
       "\n",
       "  canal_recrutamento  numero_treinamentos  idade  aval_ano_anterior  \\\n",
       "0        Outsourcing                    1     35                5.0   \n",
       "1              Outro                    1     30                5.0   \n",
       "2        Outsourcing                    1     34                3.0   \n",
       "3              Outro                    2     39                1.0   \n",
       "4              Outro                    1     45                3.0   \n",
       "\n",
       "   tempo_servico  promovido  \n",
       "0              8          0  \n",
       "1              4          0  \n",
       "2              7          0  \n",
       "3             10          0  \n",
       "4              2          0  "
      ]
     },
     "execution_count": 7,
     "metadata": {},
     "output_type": "execute_result"
    }
   ],
   "source": [
    "dadosRh.head()"
   ]
  },
  {
   "cell_type": "code",
   "execution_count": 9,
   "id": "de4ac215",
   "metadata": {},
   "outputs": [
    {
     "data": {
      "text/plain": [
       "(54808, 11)"
      ]
     },
     "execution_count": 9,
     "metadata": {},
     "output_type": "execute_result"
    }
   ],
   "source": [
    "dadosRh.shape"
   ]
  },
  {
   "cell_type": "code",
   "execution_count": 11,
   "id": "c757e0cf",
   "metadata": {},
   "outputs": [
    {
     "data": {
      "text/plain": [
       "id_funcionario            0\n",
       "departmento               0\n",
       "regiao                    0\n",
       "educacao               2409\n",
       "genero                    0\n",
       "canal_recrutamento        0\n",
       "numero_treinamentos       0\n",
       "idade                     0\n",
       "aval_ano_anterior      4124\n",
       "tempo_servico             0\n",
       "promovido                 0\n",
       "dtype: int64"
      ]
     },
     "execution_count": 11,
     "metadata": {},
     "output_type": "execute_result"
    }
   ],
   "source": [
    "dadosRh.isnull().sum()"
   ]
  },
  {
   "cell_type": "code",
   "execution_count": 12,
   "id": "1d0926bb",
   "metadata": {},
   "outputs": [
    {
     "data": {
      "text/html": [
       "<div>\n",
       "<style scoped>\n",
       "    .dataframe tbody tr th:only-of-type {\n",
       "        vertical-align: middle;\n",
       "    }\n",
       "\n",
       "    .dataframe tbody tr th {\n",
       "        vertical-align: top;\n",
       "    }\n",
       "\n",
       "    .dataframe thead th {\n",
       "        text-align: right;\n",
       "    }\n",
       "</style>\n",
       "<table border=\"1\" class=\"dataframe\">\n",
       "  <thead>\n",
       "    <tr style=\"text-align: right;\">\n",
       "      <th></th>\n",
       "      <th>id_funcionario</th>\n",
       "      <th>departmento</th>\n",
       "      <th>regiao</th>\n",
       "      <th>genero</th>\n",
       "      <th>canal_recrutamento</th>\n",
       "      <th>numero_treinamentos</th>\n",
       "      <th>idade</th>\n",
       "      <th>aval_ano_anterior</th>\n",
       "      <th>tempo_servico</th>\n",
       "      <th>promovido</th>\n",
       "    </tr>\n",
       "    <tr>\n",
       "      <th>educacao</th>\n",
       "      <th></th>\n",
       "      <th></th>\n",
       "      <th></th>\n",
       "      <th></th>\n",
       "      <th></th>\n",
       "      <th></th>\n",
       "      <th></th>\n",
       "      <th></th>\n",
       "      <th></th>\n",
       "      <th></th>\n",
       "    </tr>\n",
       "  </thead>\n",
       "  <tbody>\n",
       "    <tr>\n",
       "      <th>Ensino Medio</th>\n",
       "      <td>805</td>\n",
       "      <td>805</td>\n",
       "      <td>805</td>\n",
       "      <td>805</td>\n",
       "      <td>805</td>\n",
       "      <td>805</td>\n",
       "      <td>805</td>\n",
       "      <td>458</td>\n",
       "      <td>805</td>\n",
       "      <td>805</td>\n",
       "    </tr>\n",
       "    <tr>\n",
       "      <th>Mestrado ou Doutorado</th>\n",
       "      <td>14925</td>\n",
       "      <td>14925</td>\n",
       "      <td>14925</td>\n",
       "      <td>14925</td>\n",
       "      <td>14925</td>\n",
       "      <td>14925</td>\n",
       "      <td>14925</td>\n",
       "      <td>14798</td>\n",
       "      <td>14925</td>\n",
       "      <td>14925</td>\n",
       "    </tr>\n",
       "    <tr>\n",
       "      <th>Superior</th>\n",
       "      <td>36669</td>\n",
       "      <td>36669</td>\n",
       "      <td>36669</td>\n",
       "      <td>36669</td>\n",
       "      <td>36669</td>\n",
       "      <td>36669</td>\n",
       "      <td>36669</td>\n",
       "      <td>33404</td>\n",
       "      <td>36669</td>\n",
       "      <td>36669</td>\n",
       "    </tr>\n",
       "  </tbody>\n",
       "</table>\n",
       "</div>"
      ],
      "text/plain": [
       "                       id_funcionario  departmento  regiao  genero  \\\n",
       "educacao                                                             \n",
       "Ensino Medio                      805          805     805     805   \n",
       "Mestrado ou Doutorado           14925        14925   14925   14925   \n",
       "Superior                        36669        36669   36669   36669   \n",
       "\n",
       "                       canal_recrutamento  numero_treinamentos  idade  \\\n",
       "educacao                                                                \n",
       "Ensino Medio                          805                  805    805   \n",
       "Mestrado ou Doutorado               14925                14925  14925   \n",
       "Superior                            36669                36669  36669   \n",
       "\n",
       "                       aval_ano_anterior  tempo_servico  promovido  \n",
       "educacao                                                            \n",
       "Ensino Medio                         458            805        805  \n",
       "Mestrado ou Doutorado              14798          14925      14925  \n",
       "Superior                           33404          36669      36669  "
      ]
     },
     "execution_count": 12,
     "metadata": {},
     "output_type": "execute_result"
    }
   ],
   "source": [
    "dadosRh.groupby(['educacao']).count()"
   ]
  },
  {
   "cell_type": "code",
   "execution_count": 13,
   "id": "8fe18291",
   "metadata": {},
   "outputs": [
    {
     "name": "stderr",
     "output_type": "stream",
     "text": [
      "C:\\Users\\thiago.persiani\\AppData\\Local\\Programs\\Python\\Python310\\lib\\site-packages\\seaborn\\_decorators.py:36: FutureWarning: Pass the following variable as a keyword arg: x. From version 0.12, the only valid positional argument will be `data`, and passing other arguments without an explicit keyword will result in an error or misinterpretation.\n",
      "  warnings.warn(\n"
     ]
    },
    {
     "data": {
      "text/plain": [
       "<AxesSubplot:xlabel='educacao', ylabel='count'>"
      ]
     },
     "execution_count": 13,
     "metadata": {},
     "output_type": "execute_result"
    },
    {
     "data": {
      "image/png": "[encoded data removed]",
      "text/plain": [
       "<Figure size 432x288 with 1 Axes>"
      ]
     },
     "metadata": {
      "needs_background": "light"
     },
     "output_type": "display_data"
    }
   ],
   "source": [
    "sea.countplot(dadosRh['educacao'])"
   ]
  },
  {
   "cell_type": "code",
   "execution_count": 17,
   "id": "0a668fe6",
   "metadata": {},
   "outputs": [
    {
     "data": {
      "text/html": [
       "<div>\n",
       "<style scoped>\n",
       "    .dataframe tbody tr th:only-of-type {\n",
       "        vertical-align: middle;\n",
       "    }\n",
       "\n",
       "    .dataframe tbody tr th {\n",
       "        vertical-align: top;\n",
       "    }\n",
       "\n",
       "    .dataframe thead th {\n",
       "        text-align: right;\n",
       "    }\n",
       "</style>\n",
       "<table border=\"1\" class=\"dataframe\">\n",
       "  <thead>\n",
       "    <tr style=\"text-align: right;\">\n",
       "      <th></th>\n",
       "      <th>id_funcionario</th>\n",
       "      <th>departmento</th>\n",
       "      <th>regiao</th>\n",
       "      <th>educacao</th>\n",
       "      <th>genero</th>\n",
       "      <th>canal_recrutamento</th>\n",
       "      <th>numero_treinamentos</th>\n",
       "      <th>idade</th>\n",
       "      <th>tempo_servico</th>\n",
       "      <th>promovido</th>\n",
       "    </tr>\n",
       "    <tr>\n",
       "      <th>aval_ano_anterior</th>\n",
       "      <th></th>\n",
       "      <th></th>\n",
       "      <th></th>\n",
       "      <th></th>\n",
       "      <th></th>\n",
       "      <th></th>\n",
       "      <th></th>\n",
       "      <th></th>\n",
       "      <th></th>\n",
       "      <th></th>\n",
       "    </tr>\n",
       "  </thead>\n",
       "  <tbody>\n",
       "    <tr>\n",
       "      <th>1.0</th>\n",
       "      <td>6223</td>\n",
       "      <td>6223</td>\n",
       "      <td>6223</td>\n",
       "      <td>5887</td>\n",
       "      <td>6223</td>\n",
       "      <td>6223</td>\n",
       "      <td>6223</td>\n",
       "      <td>6223</td>\n",
       "      <td>6223</td>\n",
       "      <td>6223</td>\n",
       "    </tr>\n",
       "    <tr>\n",
       "      <th>2.0</th>\n",
       "      <td>4225</td>\n",
       "      <td>4225</td>\n",
       "      <td>4225</td>\n",
       "      <td>4035</td>\n",
       "      <td>4225</td>\n",
       "      <td>4225</td>\n",
       "      <td>4225</td>\n",
       "      <td>4225</td>\n",
       "      <td>4225</td>\n",
       "      <td>4225</td>\n",
       "    </tr>\n",
       "    <tr>\n",
       "      <th>3.0</th>\n",
       "      <td>18618</td>\n",
       "      <td>18618</td>\n",
       "      <td>18618</td>\n",
       "      <td>17867</td>\n",
       "      <td>18618</td>\n",
       "      <td>18618</td>\n",
       "      <td>18618</td>\n",
       "      <td>18618</td>\n",
       "      <td>18618</td>\n",
       "      <td>18618</td>\n",
       "    </tr>\n",
       "    <tr>\n",
       "      <th>4.0</th>\n",
       "      <td>9877</td>\n",
       "      <td>9877</td>\n",
       "      <td>9877</td>\n",
       "      <td>9509</td>\n",
       "      <td>9877</td>\n",
       "      <td>9877</td>\n",
       "      <td>9877</td>\n",
       "      <td>9877</td>\n",
       "      <td>9877</td>\n",
       "      <td>9877</td>\n",
       "    </tr>\n",
       "    <tr>\n",
       "      <th>5.0</th>\n",
       "      <td>11741</td>\n",
       "      <td>11741</td>\n",
       "      <td>11741</td>\n",
       "      <td>11362</td>\n",
       "      <td>11741</td>\n",
       "      <td>11741</td>\n",
       "      <td>11741</td>\n",
       "      <td>11741</td>\n",
       "      <td>11741</td>\n",
       "      <td>11741</td>\n",
       "    </tr>\n",
       "  </tbody>\n",
       "</table>\n",
       "</div>"
      ],
      "text/plain": [
       "                   id_funcionario  departmento  regiao  educacao  genero  \\\n",
       "aval_ano_anterior                                                          \n",
       "1.0                          6223         6223    6223      5887    6223   \n",
       "2.0                          4225         4225    4225      4035    4225   \n",
       "3.0                         18618        18618   18618     17867   18618   \n",
       "4.0                          9877         9877    9877      9509    9877   \n",
       "5.0                         11741        11741   11741     11362   11741   \n",
       "\n",
       "                   canal_recrutamento  numero_treinamentos  idade  \\\n",
       "aval_ano_anterior                                                   \n",
       "1.0                              6223                 6223   6223   \n",
       "2.0                              4225                 4225   4225   \n",
       "3.0                             18618                18618  18618   \n",
       "4.0                              9877                 9877   9877   \n",
       "5.0                             11741                11741  11741   \n",
       "\n",
       "                   tempo_servico  promovido  \n",
       "aval_ano_anterior                            \n",
       "1.0                         6223       6223  \n",
       "2.0                         4225       4225  \n",
       "3.0                        18618      18618  \n",
       "4.0                         9877       9877  \n",
       "5.0                        11741      11741  "
      ]
     },
     "execution_count": 17,
     "metadata": {},
     "output_type": "execute_result"
    }
   ],
   "source": [
    "dadosRh.groupby(['aval_ano_anterior']).count()"
   ]
  },
  {
   "cell_type": "code",
   "execution_count": 2,
   "id": "a537d9a1",
   "metadata": {},
   "outputs": [
    {
     "ename": "NameError",
     "evalue": "name 'sea' is not defined",
     "output_type": "error",
     "traceback": [
      "\u001b[1;31m---------------------------------------------------------------------------\u001b[0m",
      "\u001b[1;31mNameError\u001b[0m                                 Traceback (most recent call last)",
      "Input \u001b[1;32mIn [2]\u001b[0m, in \u001b[0;36m<module>\u001b[1;34m\u001b[0m\n\u001b[1;32m----> 1\u001b[0m \u001b[43msea\u001b[49m\u001b[38;5;241m.\u001b[39mcountplot(dadosRh[\u001b[38;5;124m'\u001b[39m\u001b[38;5;124maval_ano_anterior\u001b[39m\u001b[38;5;124m'\u001b[39m])\n",
      "\u001b[1;31mNameError\u001b[0m: name 'sea' is not defined"
     ]
    }
   ],
   "source": [
    "sea.countplot(dadosRh['aval_ano_anterior'])"
   ]
  },
  {
   "cell_type": "code",
   "execution_count": 6,
   "id": "dd5fc1cb",
   "metadata": {},
   "outputs": [],
   "source": [
    "dadosRh['educacao'].fillna(dadosRh['educacao'].mode()[0], inplace = True)"
   ]
  },
  {
   "cell_type": "code",
   "execution_count": 7,
   "id": "716655e8",
   "metadata": {},
   "outputs": [],
   "source": [
    "dadosRh['aval_ano_anterior'].fillna(dadosRh['aval_ano_anterior'].median(), inplace = True)"
   ]
  },
  {
   "cell_type": "code",
   "execution_count": 9,
   "id": "6dfadb94",
   "metadata": {},
   "outputs": [
    {
     "data": {
      "text/plain": [
       "id_funcionario         0\n",
       "departmento            0\n",
       "regiao                 0\n",
       "educacao               0\n",
       "genero                 0\n",
       "canal_recrutamento     0\n",
       "numero_treinamentos    0\n",
       "idade                  0\n",
       "aval_ano_anterior      0\n",
       "tempo_servico          0\n",
       "promovido              0\n",
       "dtype: int64"
      ]
     },
     "execution_count": 9,
     "metadata": {},
     "output_type": "execute_result"
    }
   ],
   "source": [
    "dadosRh.isnull().sum()"
   ]
  },
  {
   "cell_type": "code",
   "execution_count": 11,
   "id": "a08b6b43",
   "metadata": {},
   "outputs": [
    {
     "data": {
      "text/plain": [
       "(54808, 11)"
      ]
     },
     "execution_count": 11,
     "metadata": {},
     "output_type": "execute_result"
    }
   ],
   "source": [
    "dadosRh.shape"
   ]
  },
  {
   "cell_type": "code",
   "execution_count": 13,
   "id": "3b524561",
   "metadata": {},
   "outputs": [
    {
     "data": {
      "text/html": [
       "<div>\n",
       "<style scoped>\n",
       "    .dataframe tbody tr th:only-of-type {\n",
       "        vertical-align: middle;\n",
       "    }\n",
       "\n",
       "    .dataframe tbody tr th {\n",
       "        vertical-align: top;\n",
       "    }\n",
       "\n",
       "    .dataframe thead th {\n",
       "        text-align: right;\n",
       "    }\n",
       "</style>\n",
       "<table border=\"1\" class=\"dataframe\">\n",
       "  <thead>\n",
       "    <tr style=\"text-align: right;\">\n",
       "      <th></th>\n",
       "      <th>id_funcionario</th>\n",
       "      <th>departmento</th>\n",
       "      <th>regiao</th>\n",
       "      <th>genero</th>\n",
       "      <th>canal_recrutamento</th>\n",
       "      <th>numero_treinamentos</th>\n",
       "      <th>idade</th>\n",
       "      <th>aval_ano_anterior</th>\n",
       "      <th>tempo_servico</th>\n",
       "      <th>promovido</th>\n",
       "    </tr>\n",
       "    <tr>\n",
       "      <th>educacao</th>\n",
       "      <th></th>\n",
       "      <th></th>\n",
       "      <th></th>\n",
       "      <th></th>\n",
       "      <th></th>\n",
       "      <th></th>\n",
       "      <th></th>\n",
       "      <th></th>\n",
       "      <th></th>\n",
       "      <th></th>\n",
       "    </tr>\n",
       "  </thead>\n",
       "  <tbody>\n",
       "    <tr>\n",
       "      <th>Ensino Medio</th>\n",
       "      <td>805</td>\n",
       "      <td>805</td>\n",
       "      <td>805</td>\n",
       "      <td>805</td>\n",
       "      <td>805</td>\n",
       "      <td>805</td>\n",
       "      <td>805</td>\n",
       "      <td>805</td>\n",
       "      <td>805</td>\n",
       "      <td>805</td>\n",
       "    </tr>\n",
       "    <tr>\n",
       "      <th>Mestrado ou Doutorado</th>\n",
       "      <td>14925</td>\n",
       "      <td>14925</td>\n",
       "      <td>14925</td>\n",
       "      <td>14925</td>\n",
       "      <td>14925</td>\n",
       "      <td>14925</td>\n",
       "      <td>14925</td>\n",
       "      <td>14925</td>\n",
       "      <td>14925</td>\n",
       "      <td>14925</td>\n",
       "    </tr>\n",
       "    <tr>\n",
       "      <th>Superior</th>\n",
       "      <td>39078</td>\n",
       "      <td>39078</td>\n",
       "      <td>39078</td>\n",
       "      <td>39078</td>\n",
       "      <td>39078</td>\n",
       "      <td>39078</td>\n",
       "      <td>39078</td>\n",
       "      <td>39078</td>\n",
       "      <td>39078</td>\n",
       "      <td>39078</td>\n",
       "    </tr>\n",
       "  </tbody>\n",
       "</table>\n",
       "</div>"
      ],
      "text/plain": [
       "                       id_funcionario  departmento  regiao  genero  \\\n",
       "educacao                                                             \n",
       "Ensino Medio                      805          805     805     805   \n",
       "Mestrado ou Doutorado           14925        14925   14925   14925   \n",
       "Superior                        39078        39078   39078   39078   \n",
       "\n",
       "                       canal_recrutamento  numero_treinamentos  idade  \\\n",
       "educacao                                                                \n",
       "Ensino Medio                          805                  805    805   \n",
       "Mestrado ou Doutorado               14925                14925  14925   \n",
       "Superior                            39078                39078  39078   \n",
       "\n",
       "                       aval_ano_anterior  tempo_servico  promovido  \n",
       "educacao                                                            \n",
       "Ensino Medio                         805            805        805  \n",
       "Mestrado ou Doutorado              14925          14925      14925  \n",
       "Superior                           39078          39078      39078  "
      ]
     },
     "execution_count": 13,
     "metadata": {},
     "output_type": "execute_result"
    }
   ],
   "source": [
    "dadosRh.groupby(['educacao']).count()"
   ]
  },
  {
   "cell_type": "code",
   "execution_count": 14,
   "id": "9ba841f9",
   "metadata": {},
   "outputs": [
    {
     "data": {
      "text/html": [
       "<div>\n",
       "<style scoped>\n",
       "    .dataframe tbody tr th:only-of-type {\n",
       "        vertical-align: middle;\n",
       "    }\n",
       "\n",
       "    .dataframe tbody tr th {\n",
       "        vertical-align: top;\n",
       "    }\n",
       "\n",
       "    .dataframe thead th {\n",
       "        text-align: right;\n",
       "    }\n",
       "</style>\n",
       "<table border=\"1\" class=\"dataframe\">\n",
       "  <thead>\n",
       "    <tr style=\"text-align: right;\">\n",
       "      <th></th>\n",
       "      <th>id_funcionario</th>\n",
       "      <th>departmento</th>\n",
       "      <th>regiao</th>\n",
       "      <th>educacao</th>\n",
       "      <th>genero</th>\n",
       "      <th>canal_recrutamento</th>\n",
       "      <th>numero_treinamentos</th>\n",
       "      <th>idade</th>\n",
       "      <th>tempo_servico</th>\n",
       "      <th>promovido</th>\n",
       "    </tr>\n",
       "    <tr>\n",
       "      <th>aval_ano_anterior</th>\n",
       "      <th></th>\n",
       "      <th></th>\n",
       "      <th></th>\n",
       "      <th></th>\n",
       "      <th></th>\n",
       "      <th></th>\n",
       "      <th></th>\n",
       "      <th></th>\n",
       "      <th></th>\n",
       "      <th></th>\n",
       "    </tr>\n",
       "  </thead>\n",
       "  <tbody>\n",
       "    <tr>\n",
       "      <th>1.0</th>\n",
       "      <td>6223</td>\n",
       "      <td>6223</td>\n",
       "      <td>6223</td>\n",
       "      <td>6223</td>\n",
       "      <td>6223</td>\n",
       "      <td>6223</td>\n",
       "      <td>6223</td>\n",
       "      <td>6223</td>\n",
       "      <td>6223</td>\n",
       "      <td>6223</td>\n",
       "    </tr>\n",
       "    <tr>\n",
       "      <th>2.0</th>\n",
       "      <td>4225</td>\n",
       "      <td>4225</td>\n",
       "      <td>4225</td>\n",
       "      <td>4225</td>\n",
       "      <td>4225</td>\n",
       "      <td>4225</td>\n",
       "      <td>4225</td>\n",
       "      <td>4225</td>\n",
       "      <td>4225</td>\n",
       "      <td>4225</td>\n",
       "    </tr>\n",
       "    <tr>\n",
       "      <th>3.0</th>\n",
       "      <td>22742</td>\n",
       "      <td>22742</td>\n",
       "      <td>22742</td>\n",
       "      <td>22742</td>\n",
       "      <td>22742</td>\n",
       "      <td>22742</td>\n",
       "      <td>22742</td>\n",
       "      <td>22742</td>\n",
       "      <td>22742</td>\n",
       "      <td>22742</td>\n",
       "    </tr>\n",
       "    <tr>\n",
       "      <th>4.0</th>\n",
       "      <td>9877</td>\n",
       "      <td>9877</td>\n",
       "      <td>9877</td>\n",
       "      <td>9877</td>\n",
       "      <td>9877</td>\n",
       "      <td>9877</td>\n",
       "      <td>9877</td>\n",
       "      <td>9877</td>\n",
       "      <td>9877</td>\n",
       "      <td>9877</td>\n",
       "    </tr>\n",
       "    <tr>\n",
       "      <th>5.0</th>\n",
       "      <td>11741</td>\n",
       "      <td>11741</td>\n",
       "      <td>11741</td>\n",
       "      <td>11741</td>\n",
       "      <td>11741</td>\n",
       "      <td>11741</td>\n",
       "      <td>11741</td>\n",
       "      <td>11741</td>\n",
       "      <td>11741</td>\n",
       "      <td>11741</td>\n",
       "    </tr>\n",
       "  </tbody>\n",
       "</table>\n",
       "</div>"
      ],
      "text/plain": [
       "                   id_funcionario  departmento  regiao  educacao  genero  \\\n",
       "aval_ano_anterior                                                          \n",
       "1.0                          6223         6223    6223      6223    6223   \n",
       "2.0                          4225         4225    4225      4225    4225   \n",
       "3.0                         22742        22742   22742     22742   22742   \n",
       "4.0                          9877         9877    9877      9877    9877   \n",
       "5.0                         11741        11741   11741     11741   11741   \n",
       "\n",
       "                   canal_recrutamento  numero_treinamentos  idade  \\\n",
       "aval_ano_anterior                                                   \n",
       "1.0                              6223                 6223   6223   \n",
       "2.0                              4225                 4225   4225   \n",
       "3.0                             22742                22742  22742   \n",
       "4.0                              9877                 9877   9877   \n",
       "5.0                             11741                11741  11741   \n",
       "\n",
       "                   tempo_servico  promovido  \n",
       "aval_ano_anterior                            \n",
       "1.0                         6223       6223  \n",
       "2.0                         4225       4225  \n",
       "3.0                        22742      22742  \n",
       "4.0                         9877       9877  \n",
       "5.0                        11741      11741  "
      ]
     },
     "execution_count": 14,
     "metadata": {},
     "output_type": "execute_result"
    }
   ],
   "source": [
    "dadosRh.groupby(['aval_ano_anterior']).count()"
   ]
  },
  {
   "cell_type": "code",
   "execution_count": 15,
   "id": "fd3663f7",
   "metadata": {},
   "outputs": [
    {
     "data": {
      "text/html": [
       "<div>\n",
       "<style scoped>\n",
       "    .dataframe tbody tr th:only-of-type {\n",
       "        vertical-align: middle;\n",
       "    }\n",
       "\n",
       "    .dataframe tbody tr th {\n",
       "        vertical-align: top;\n",
       "    }\n",
       "\n",
       "    .dataframe thead th {\n",
       "        text-align: right;\n",
       "    }\n",
       "</style>\n",
       "<table border=\"1\" class=\"dataframe\">\n",
       "  <thead>\n",
       "    <tr style=\"text-align: right;\">\n",
       "      <th></th>\n",
       "      <th>id_funcionario</th>\n",
       "      <th>departmento</th>\n",
       "      <th>regiao</th>\n",
       "      <th>educacao</th>\n",
       "      <th>genero</th>\n",
       "      <th>canal_recrutamento</th>\n",
       "      <th>numero_treinamentos</th>\n",
       "      <th>idade</th>\n",
       "      <th>aval_ano_anterior</th>\n",
       "      <th>tempo_servico</th>\n",
       "    </tr>\n",
       "    <tr>\n",
       "      <th>promovido</th>\n",
       "      <th></th>\n",
       "      <th></th>\n",
       "      <th></th>\n",
       "      <th></th>\n",
       "      <th></th>\n",
       "      <th></th>\n",
       "      <th></th>\n",
       "      <th></th>\n",
       "      <th></th>\n",
       "      <th></th>\n",
       "    </tr>\n",
       "  </thead>\n",
       "  <tbody>\n",
       "    <tr>\n",
       "      <th>0</th>\n",
       "      <td>50140</td>\n",
       "      <td>50140</td>\n",
       "      <td>50140</td>\n",
       "      <td>50140</td>\n",
       "      <td>50140</td>\n",
       "      <td>50140</td>\n",
       "      <td>50140</td>\n",
       "      <td>50140</td>\n",
       "      <td>50140</td>\n",
       "      <td>50140</td>\n",
       "    </tr>\n",
       "    <tr>\n",
       "      <th>1</th>\n",
       "      <td>4668</td>\n",
       "      <td>4668</td>\n",
       "      <td>4668</td>\n",
       "      <td>4668</td>\n",
       "      <td>4668</td>\n",
       "      <td>4668</td>\n",
       "      <td>4668</td>\n",
       "      <td>4668</td>\n",
       "      <td>4668</td>\n",
       "      <td>4668</td>\n",
       "    </tr>\n",
       "  </tbody>\n",
       "</table>\n",
       "</div>"
      ],
      "text/plain": [
       "           id_funcionario  departmento  regiao  educacao  genero  \\\n",
       "promovido                                                          \n",
       "0                   50140        50140   50140     50140   50140   \n",
       "1                    4668         4668    4668      4668    4668   \n",
       "\n",
       "           canal_recrutamento  numero_treinamentos  idade  aval_ano_anterior  \\\n",
       "promovido                                                                      \n",
       "0                       50140                50140  50140              50140   \n",
       "1                        4668                 4668   4668               4668   \n",
       "\n",
       "           tempo_servico  \n",
       "promovido                 \n",
       "0                  50140  \n",
       "1                   4668  "
      ]
     },
     "execution_count": 15,
     "metadata": {},
     "output_type": "execute_result"
    }
   ],
   "source": [
    "dadosRh.groupby(['promovido']).count()"
   ]
  },
  {
   "cell_type": "code",
   "execution_count": 16,
   "id": "559bc7c2",
   "metadata": {},
   "outputs": [
    {
     "name": "stderr",
     "output_type": "stream",
     "text": [
      "C:\\Users\\thiago.persiani\\AppData\\Local\\Programs\\Python\\Python310\\lib\\site-packages\\seaborn\\_decorators.py:36: FutureWarning: Pass the following variable as a keyword arg: x. From version 0.12, the only valid positional argument will be `data`, and passing other arguments without an explicit keyword will result in an error or misinterpretation.\n",
      "  warnings.warn(\n"
     ]
    },
    {
     "data": {
      "text/plain": [
       "<AxesSubplot:xlabel='promovido', ylabel='count'>"
      ]
     },
     "execution_count": 16,
     "metadata": {},
     "output_type": "execute_result"
    },
    {
     "data": {
      "image/png": "[encoded data removed]",
      "text/plain": [
       "<Figure size 432x288 with 1 Axes>"
      ]
     },
     "metadata": {
      "needs_background": "light"
     },
     "output_type": "display_data"
    }
   ],
   "source": [
    "sea.countplot(dadosRh['promovido'])"
   ]
  },
  {
   "cell_type": "code",
   "execution_count": 18,
   "id": "9c479972",
   "metadata": {},
   "outputs": [],
   "source": [
    "df_classe_majoritaria = dadosRh[dadosRh.promovido==0]\n",
    "df_classe_minoritaria = dadosRh[dadosRh.promovido==1]"
   ]
  },
  {
   "cell_type": "code",
   "execution_count": 19,
   "id": "6ec4ad63",
   "metadata": {},
   "outputs": [
    {
     "data": {
      "text/plain": [
       "(50140, 11)"
      ]
     },
     "execution_count": 19,
     "metadata": {},
     "output_type": "execute_result"
    }
   ],
   "source": [
    "df_classe_majoritaria.shape"
   ]
  },
  {
   "cell_type": "code",
   "execution_count": 20,
   "id": "4ae7a3a0",
   "metadata": {},
   "outputs": [
    {
     "data": {
      "text/plain": [
       "(4668, 11)"
      ]
     },
     "execution_count": 20,
     "metadata": {},
     "output_type": "execute_result"
    }
   ],
   "source": [
    "df_classe_minoritaria.shape"
   ]
  },
  {
   "cell_type": "code",
   "execution_count": 23,
   "id": "5b363477",
   "metadata": {},
   "outputs": [
    {
     "name": "stdout",
     "output_type": "stream",
     "text": [
      "Collecting sklearn\n",
      "  Downloading sklearn-0.0.tar.gz (1.1 kB)\n",
      "Collecting scikit-learn\n",
      "  Downloading scikit_learn-1.1.1-cp310-cp310-win_amd64.whl (7.3 MB)\n",
      "Requirement already satisfied: numpy>=1.17.3 in c:\\users\\thiago.persiani\\appdata\\local\\programs\\python\\python310\\lib\\site-packages (from scikit-learn->sklearn) (1.21.5)\n",
      "Requirement already satisfied: scipy>=1.3.2 in c:\\users\\thiago.persiani\\appdata\\local\\programs\\python\\python310\\lib\\site-packages (from scikit-learn->sklearn) (1.8.1)\n",
      "Collecting threadpoolctl>=2.0.0\n",
      "  Downloading threadpoolctl-3.1.0-py3-none-any.whl (14 kB)\n",
      "Collecting joblib>=1.0.0\n",
      "  Downloading joblib-1.1.0-py2.py3-none-any.whl (306 kB)\n",
      "Using legacy 'setup.py install' for sklearn, since package 'wheel' is not installed.\n",
      "Installing collected packages: threadpoolctl, joblib, scikit-learn, sklearn\n",
      "    Running setup.py install for sklearn: started\n",
      "    Running setup.py install for sklearn: finished with status 'done'\n",
      "Successfully installed joblib-1.1.0 scikit-learn-1.1.1 sklearn-0.0 threadpoolctl-3.1.0\n"
     ]
    },
    {
     "name": "stderr",
     "output_type": "stream",
     "text": [
      "WARNING: You are using pip version 21.2.4; however, version 22.1.2 is available.\n",
      "You should consider upgrading via the 'C:\\Users\\thiago.persiani\\AppData\\Local\\Programs\\Python\\Python310\\python.exe -m pip install --upgrade pip' command.\n"
     ]
    }
   ],
   "source": [
    "# Upsample da classe minoritária\n",
    "!pip install sklearn\n",
    "from sklearn.utils import resample\n",
    "df_classe_minoritaria_upsampled = resample(df_classe_minoritaria, \n",
    "                                           replace = True,     \n",
    "                                           n_samples = 50140,   \n",
    "                                           random_state = 150) "
   ]
  },
  {
   "cell_type": "code",
   "execution_count": 24,
   "id": "1ceca4d6",
   "metadata": {},
   "outputs": [],
   "source": [
    "dadosRh_balanceados = pd.concat([df_classe_majoritaria, df_classe_minoritaria_upsampled])"
   ]
  },
  {
   "cell_type": "code",
   "execution_count": 25,
   "id": "34ec8f9e",
   "metadata": {},
   "outputs": [
    {
     "data": {
      "text/plain": [
       "0    50140\n",
       "1    50140\n",
       "Name: promovido, dtype: int64"
      ]
     },
     "execution_count": 25,
     "metadata": {},
     "output_type": "execute_result"
    }
   ],
   "source": [
    "dadosRh_balanceados.promovido.value_counts()"
   ]
  },
  {
   "cell_type": "code",
   "execution_count": 27,
   "id": "36c4562d",
   "metadata": {},
   "outputs": [
    {
     "name": "stdout",
     "output_type": "stream",
     "text": [
      "<class 'pandas.core.frame.DataFrame'>\n",
      "Int64Index: 100280 entries, 0 to 5869\n",
      "Data columns (total 11 columns):\n",
      " #   Column               Non-Null Count   Dtype  \n",
      "---  ------               --------------   -----  \n",
      " 0   id_funcionario       100280 non-null  int64  \n",
      " 1   departmento          100280 non-null  object \n",
      " 2   regiao               100280 non-null  object \n",
      " 3   educacao             100280 non-null  object \n",
      " 4   genero               100280 non-null  object \n",
      " 5   canal_recrutamento   100280 non-null  object \n",
      " 6   numero_treinamentos  100280 non-null  int64  \n",
      " 7   idade                100280 non-null  int64  \n",
      " 8   aval_ano_anterior    100280 non-null  float64\n",
      " 9   tempo_servico        100280 non-null  int64  \n",
      " 10  promovido            100280 non-null  int64  \n",
      "dtypes: float64(1), int64(5), object(5)\n",
      "memory usage: 9.2+ MB\n"
     ]
    }
   ],
   "source": [
    "dadosRh_balanceados.info()"
   ]
  },
  {
   "cell_type": "code",
   "execution_count": 28,
   "id": "b6f76e45",
   "metadata": {},
   "outputs": [
    {
     "name": "stderr",
     "output_type": "stream",
     "text": [
      "C:\\Users\\thiago.persiani\\AppData\\Local\\Programs\\Python\\Python310\\lib\\site-packages\\seaborn\\_decorators.py:36: FutureWarning: Pass the following variable as a keyword arg: x. From version 0.12, the only valid positional argument will be `data`, and passing other arguments without an explicit keyword will result in an error or misinterpretation.\n",
      "  warnings.warn(\n"
     ]
    },
    {
     "data": {
      "text/plain": [
       "<AxesSubplot:xlabel='promovido', ylabel='count'>"
      ]
     },
     "execution_count": 28,
     "metadata": {},
     "output_type": "execute_result"
    },
    {
     "data": {
      "image/png": "[encoded data removed]",
      "text/plain": [
       "<Figure size 432x288 with 1 Axes>"
      ]
     },
     "metadata": {
      "needs_background": "light"
     },
     "output_type": "display_data"
    }
   ],
   "source": [
    "sea.countplot(dadosRh_balanceados['promovido'])"
   ]
  },
  {
   "cell_type": "code",
   "execution_count": 29,
   "id": "324d497e",
   "metadata": {},
   "outputs": [],
   "source": [
    "dadosRh_balanceados.to_csv('dadosRH_modificado.csv', encoding = 'utf-8', index = False)"
   ]
  },
  {
   "cell_type": "code",
   "execution_count": 30,
   "id": "21394d18",
   "metadata": {},
   "outputs": [
    {
     "data": {
      "text/html": [
       "<div>\n",
       "<style scoped>\n",
       "    .dataframe tbody tr th:only-of-type {\n",
       "        vertical-align: middle;\n",
       "    }\n",
       "\n",
       "    .dataframe tbody tr th {\n",
       "        vertical-align: top;\n",
       "    }\n",
       "\n",
       "    .dataframe thead th {\n",
       "        text-align: right;\n",
       "    }\n",
       "</style>\n",
       "<table border=\"1\" class=\"dataframe\">\n",
       "  <thead>\n",
       "    <tr style=\"text-align: right;\">\n",
       "      <th></th>\n",
       "      <th>id_funcionario</th>\n",
       "      <th>departmento</th>\n",
       "      <th>regiao</th>\n",
       "      <th>educacao</th>\n",
       "      <th>genero</th>\n",
       "      <th>canal_recrutamento</th>\n",
       "      <th>numero_treinamentos</th>\n",
       "      <th>idade</th>\n",
       "      <th>aval_ano_anterior</th>\n",
       "      <th>tempo_servico</th>\n",
       "      <th>promovido</th>\n",
       "    </tr>\n",
       "  </thead>\n",
       "  <tbody>\n",
       "    <tr>\n",
       "      <th>0</th>\n",
       "      <td>65438</td>\n",
       "      <td>Marketing</td>\n",
       "      <td>Sudeste</td>\n",
       "      <td>Mestrado ou Doutorado</td>\n",
       "      <td>F</td>\n",
       "      <td>Outsourcing</td>\n",
       "      <td>1</td>\n",
       "      <td>35</td>\n",
       "      <td>5.0</td>\n",
       "      <td>8</td>\n",
       "      <td>0</td>\n",
       "    </tr>\n",
       "    <tr>\n",
       "      <th>1</th>\n",
       "      <td>65141</td>\n",
       "      <td>Logistica</td>\n",
       "      <td>Nordeste</td>\n",
       "      <td>Superior</td>\n",
       "      <td>M</td>\n",
       "      <td>Outro</td>\n",
       "      <td>1</td>\n",
       "      <td>30</td>\n",
       "      <td>5.0</td>\n",
       "      <td>4</td>\n",
       "      <td>0</td>\n",
       "    </tr>\n",
       "    <tr>\n",
       "      <th>2</th>\n",
       "      <td>7513</td>\n",
       "      <td>Marketing</td>\n",
       "      <td>Sudeste</td>\n",
       "      <td>Superior</td>\n",
       "      <td>M</td>\n",
       "      <td>Outsourcing</td>\n",
       "      <td>1</td>\n",
       "      <td>34</td>\n",
       "      <td>3.0</td>\n",
       "      <td>7</td>\n",
       "      <td>0</td>\n",
       "    </tr>\n",
       "    <tr>\n",
       "      <th>3</th>\n",
       "      <td>2542</td>\n",
       "      <td>Marketing</td>\n",
       "      <td>Norte</td>\n",
       "      <td>Superior</td>\n",
       "      <td>M</td>\n",
       "      <td>Outro</td>\n",
       "      <td>2</td>\n",
       "      <td>39</td>\n",
       "      <td>1.0</td>\n",
       "      <td>10</td>\n",
       "      <td>0</td>\n",
       "    </tr>\n",
       "    <tr>\n",
       "      <th>4</th>\n",
       "      <td>48945</td>\n",
       "      <td>Tecnologia</td>\n",
       "      <td>Nordeste</td>\n",
       "      <td>Superior</td>\n",
       "      <td>M</td>\n",
       "      <td>Outro</td>\n",
       "      <td>1</td>\n",
       "      <td>45</td>\n",
       "      <td>3.0</td>\n",
       "      <td>2</td>\n",
       "      <td>0</td>\n",
       "    </tr>\n",
       "  </tbody>\n",
       "</table>\n",
       "</div>"
      ],
      "text/plain": [
       "   id_funcionario departmento    regiao               educacao genero  \\\n",
       "0           65438   Marketing   Sudeste  Mestrado ou Doutorado      F   \n",
       "1           65141   Logistica  Nordeste               Superior      M   \n",
       "2            7513   Marketing   Sudeste               Superior      M   \n",
       "3            2542   Marketing     Norte               Superior      M   \n",
       "4           48945  Tecnologia  Nordeste               Superior      M   \n",
       "\n",
       "  canal_recrutamento  numero_treinamentos  idade  aval_ano_anterior  \\\n",
       "0        Outsourcing                    1     35                5.0   \n",
       "1              Outro                    1     30                5.0   \n",
       "2        Outsourcing                    1     34                3.0   \n",
       "3              Outro                    2     39                1.0   \n",
       "4              Outro                    1     45                3.0   \n",
       "\n",
       "   tempo_servico  promovido  \n",
       "0              8          0  \n",
       "1              4          0  \n",
       "2              7          0  \n",
       "3             10          0  \n",
       "4              2          0  "
      ]
     },
     "execution_count": 30,
     "metadata": {},
     "output_type": "execute_result"
    }
   ],
   "source": [
    "dataset = pd.read_csv('dadosRH_modificado.csv')\n",
    "dataset.head()"
   ]
  },
  {
   "cell_type": "code",
   "execution_count": 31,
   "id": "ad82b77f",
   "metadata": {},
   "outputs": [
    {
     "data": {
      "text/plain": [
       "(100280, 11)"
      ]
     },
     "execution_count": 31,
     "metadata": {},
     "output_type": "execute_result"
    }
   ],
   "source": [
    "dataset.shape"
   ]
  },
  {
   "cell_type": "code",
   "execution_count": 32,
   "id": "ecdd1cdf",
   "metadata": {},
   "outputs": [
    {
     "data": {
      "image/png": "[encoded data removed]",
      "text/plain": [
       "<Figure size 432x288 with 2 Axes>"
      ]
     },
     "metadata": {
      "needs_background": "light"
     },
     "output_type": "display_data"
    }
   ],
   "source": [
    "import matplotlib.pyplot as plt\n",
    "import seaborn as sns\n",
    "corr = dataset.corr()\n",
    "sns.heatmap(corr, cmap = \"YlOrRd\", linewidths = 0.1)\n",
    "plt.show()"
   ]
  },
  {
   "cell_type": "code",
   "execution_count": 33,
   "id": "cf6dd27f",
   "metadata": {},
   "outputs": [
    {
     "name": "stderr",
     "output_type": "stream",
     "text": [
      "C:\\Users\\thiago.persiani\\AppData\\Local\\Programs\\Python\\Python310\\lib\\site-packages\\seaborn\\distributions.py:2619: FutureWarning: `distplot` is a deprecated function and will be removed in a future version. Please adapt your code to use either `displot` (a figure-level function with similar flexibility) or `histplot` (an axes-level function for histograms).\n",
      "  warnings.warn(msg, FutureWarning)\n"
     ]
    },
    {
     "data": {
      "image/png": "[encoded data removed]",
      "text/plain": [
       "<Figure size 432x288 with 1 Axes>"
      ]
     },
     "metadata": {
      "needs_background": "light"
     },
     "output_type": "display_data"
    }
   ],
   "source": [
    "import matplotlib.pyplot as plt\n",
    "import seaborn as sns\n",
    "sns.distplot(dataset['tempo_servico'], color = 'green')\n",
    "plt.title('Distribuição do Tempo de Serviço dos Funcionários', fontsize = 15)\n",
    "plt.xlabel('Tempo de Serviço em Anos', fontsize = 15)\n",
    "plt.ylabel('Total')\n",
    "plt.show()"
   ]
  },
  {
   "cell_type": "code",
   "execution_count": 34,
   "id": "fc41ad05",
   "metadata": {},
   "outputs": [
    {
     "data": {
      "image/png": "[encoded data removed]",
      "text/plain": [
       "<Figure size 720x360 with 1 Axes>"
      ]
     },
     "metadata": {
      "needs_background": "light"
     },
     "output_type": "display_data"
    }
   ],
   "source": [
    "import matplotlib.pyplot as plt\n",
    "import seaborn as sns\n",
    "dataset['aval_ano_anterior'].value_counts().sort_values().plot.bar(color = 'blue', figsize = (10, 5))\n",
    "plt.title('Distribuição da Avaliação do Ano Anterior dos Funcionários', fontsize = 15)\n",
    "plt.xlabel('Avaliações', fontsize = 15)\n",
    "plt.ylabel('Total')\n",
    "plt.show()"
   ]
  },
  {
   "cell_type": "code",
   "execution_count": 35,
   "id": "5b51098d",
   "metadata": {},
   "outputs": [
    {
     "name": "stderr",
     "output_type": "stream",
     "text": [
      "C:\\Users\\thiago.persiani\\AppData\\Local\\Programs\\Python\\Python310\\lib\\site-packages\\seaborn\\distributions.py:2619: FutureWarning: `distplot` is a deprecated function and will be removed in a future version. Please adapt your code to use either `displot` (a figure-level function with similar flexibility) or `histplot` (an axes-level function for histograms).\n",
      "  warnings.warn(msg, FutureWarning)\n"
     ]
    },
    {
     "data": {
      "image/png": "[encoded data removed]",
      "text/plain": [
       "<Figure size 432x288 with 1 Axes>"
      ]
     },
     "metadata": {
      "needs_background": "light"
     },
     "output_type": "display_data"
    }
   ],
   "source": [
    "import matplotlib.pyplot as plt\n",
    "import seaborn as sns\n",
    "sns.distplot(dataset['idade'], color = 'magenta')\n",
    "plt.title('Distribuição da Idade dos Funcionários', fontsize = 15)\n",
    "plt.xlabel('Idade', fontsize = 15)\n",
    "plt.ylabel('Total')\n",
    "plt.show()"
   ]
  },
  {
   "cell_type": "code",
   "execution_count": 36,
   "id": "58f22091",
   "metadata": {},
   "outputs": [
    {
     "name": "stderr",
     "output_type": "stream",
     "text": [
      "C:\\Users\\thiago.persiani\\AppData\\Local\\Programs\\Python\\Python310\\lib\\site-packages\\seaborn\\_decorators.py:36: FutureWarning: Pass the following variable as a keyword arg: x. From version 0.12, the only valid positional argument will be `data`, and passing other arguments without an explicit keyword will result in an error or misinterpretation.\n",
      "  warnings.warn(\n"
     ]
    },
    {
     "data": {
      "image/png": "[encoded data removed]",
      "text/plain": [
       "<Figure size 432x288 with 1 Axes>"
      ]
     },
     "metadata": {
      "needs_background": "light"
     },
     "output_type": "display_data"
    }
   ],
   "source": [
    "import matplotlib.pyplot as plt\n",
    "import seaborn as sns\n",
    "sns.violinplot(dataset['numero_treinamentos'], color = 'red')\n",
    "plt.title('Número de Treinamentos Feitos Pelos Funcionários', fontsize = 15)\n",
    "plt.xlabel('Número de Treinamentos', fontsize = 15)\n",
    "plt.ylabel('Frequência')\n",
    "plt.show()"
   ]
  },
  {
   "cell_type": "code",
   "execution_count": 37,
   "id": "897788af",
   "metadata": {},
   "outputs": [
    {
     "data": {
      "text/plain": [
       "Outro          55375\n",
       "Outsourcing    42358\n",
       "Indicado        2547\n",
       "Name: canal_recrutamento, dtype: int64"
      ]
     },
     "execution_count": 37,
     "metadata": {},
     "output_type": "execute_result"
    }
   ],
   "source": [
    "dataset['canal_recrutamento'].value_counts()"
   ]
  },
  {
   "cell_type": "code",
   "execution_count": 38,
   "id": "07d751c8",
   "metadata": {},
   "outputs": [
    {
     "data": {
      "image/png": "[encoded data removed]",
      "text/plain": [
       "<Figure size 432x288 with 1 Axes>"
      ]
     },
     "metadata": {},
     "output_type": "display_data"
    }
   ],
   "source": [
    "import matplotlib.pyplot as plt\n",
    "import seaborn as sns\n",
    "dataset['canal_recrutamento'].value_counts()\n",
    "fatias = [55375, 42358, 2547]\n",
    "labels = \"Outro\", \"Outsourcing\", \"Indicação\"\n",
    "colors = ['purple', 'lime', 'yellow']\n",
    "explode = [0, 0, 0]\n",
    "plt.pie(fatias, labels = labels, colors = colors, explode = explode, shadow = True, autopct = \"%.2f%%\")\n",
    "plt.title('Percentual de Funcionários Por Canal de Recrutamento', fontsize = 15)\n",
    "plt.axis('off')\n",
    "#plt.legend()\n",
    "plt.show()"
   ]
  },
  {
   "cell_type": "code",
   "execution_count": 39,
   "id": "3dbfacd2",
   "metadata": {},
   "outputs": [
    {
     "data": {
      "image/png": "[encoded data removed]",
      "text/plain": [
       "<Figure size 1152x648 with 1 Axes>"
      ]
     },
     "metadata": {
      "needs_background": "light"
     },
     "output_type": "display_data"
    }
   ],
   "source": [
    "import matplotlib.pyplot as plt\n",
    "import seaborn as sns\n",
    "data = pd.crosstab(dataset['aval_ano_anterior'], dataset['promovido'])\n",
    "data.div(data.sum(1).astype(float), axis = 0).plot(kind = 'bar', \n",
    "                                                   stacked = True, \n",
    "                                                   figsize = (16, 9), \n",
    "                                                   color = ['blue', 'magenta'])\n",
    "plt.title('Relação Entre Avaliação do Ano Anterior e a Promoção', fontsize = 15)\n",
    "plt.xlabel('Avaliação do Ano Anterior', fontsize = 15)\n",
    "plt.legend()\n",
    "plt.show()"
   ]
  },
  {
   "cell_type": "code",
   "execution_count": null,
   "id": "1064499e",
   "metadata": {},
   "outputs": [],
   "source": []
  }
 ],
 "metadata": {
  "kernelspec": {
   "display_name": "Python 3 (ipykernel)",
   "language": "python",
   "name": "python3"
  },
  "language_info": {
   "codemirror_mode": {
    "name": "ipython",
    "version": 3
   },
   "file_extension": ".py",
   "mimetype": "text/x-python",
   "name": "python",
   "nbconvert_exporter": "python",
   "pygments_lexer": "ipython3",
   "version": "3.9.7"
  }
 },
 "nbformat": 4,
 "nbformat_minor": 5
}
